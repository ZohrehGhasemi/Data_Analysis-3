{
 "cells": [
  {
   "cell_type": "code",
   "execution_count": null,
   "id": "d094b7f4",
   "metadata": {},
   "outputs": [],
   "source": [
    "Assignment 1\n",
    "Zohreh Ghasemi\n",
    "20 January 2023"
   ]
  },
  {
   "cell_type": "code",
   "execution_count": null,
   "id": "2a9f171e",
   "metadata": {},
   "outputs": [],
   "source": [
    "# import necessary modules\n",
    "import os\n",
    "import sys\n",
    "import warnings\n",
    "\n",
    "import numpy as np\n",
    "import pandas as pd\n",
    "import statsmodels.formula.api as smf\n",
    "from mizani.formatters import percent_format\n",
    "from plotnine import *\n",
    "from stargazer import stargazer\n",
    "from statsmodels.tools.eval_measures import mse, rmse\n",
    "warnings.filterwarnings(\"ignore\")\n",
    "# turning off scientific notation"
   ]
  },
  {
   "cell_type": "code",
   "execution_count": null,
   "id": "73117e2d",
   "metadata": {},
   "outputs": [],
   "source": [
    "df= pd.read_csv(\"morg2014.csv\" , header = 0, sep =',')"
   ]
  },
  {
   "cell_type": "code",
   "execution_count": null,
   "id": "bfcf1dff",
   "metadata": {},
   "outputs": [],
   "source": [
    "# I create some variables\n",
    "df[\"female\"] = (df[\"sex\"] == 2)\n",
    "df[\"w\"] = df[\"earnwke\"] / df[\"uhourse\"]\n",
    "df[\"agesq\"] = np.power(df[\"age\"], 2)\n",
    "df[\"agecu\"] = np.power(df[\"age\"], 3)\n",
    "df[\"agequ\"] = np.power(df[\"age\"], 4)"
   ]
  },
  {
   "cell_type": "code",
   "execution_count": null,
   "id": "a946841b",
   "metadata": {},
   "outputs": [],
   "source": [
    "# data summary\n",
    "df.describe()"
   ]
  },
  {
   "cell_type": "code",
   "execution_count": null,
   "id": "61329ecf",
   "metadata": {},
   "outputs": [],
   "source": [
    "# select occupation\n",
    "df = df[df[\"occ2012\"]==5700]"
   ]
  },
  {
   "cell_type": "code",
   "execution_count": null,
   "id": "aea2e1e9",
   "metadata": {},
   "outputs": [],
   "source": [
    "df.head(5)"
   ]
  },
  {
   "cell_type": "code",
   "execution_count": null,
   "id": "d85d8298",
   "metadata": {},
   "outputs": [],
   "source": [
    "#check missing variable in our data\n",
    "df.isnull().sum()"
   ]
  },
  {
   "cell_type": "code",
   "execution_count": null,
   "id": "386c5a59",
   "metadata": {},
   "outputs": [],
   "source": [
    "# Model 1: Linear regression\n",
    "model1 = \"w ~ female + age\"\n",
    "\n",
    "# Models 2-5: Multiple linear regressions\n",
    "\n",
    "model2 = \"w ~  age +female + female*age + agesq + race + prcitshp \"\n",
    "model3 = \"w ~ female*age + agesq +female + age + race + prcitshp + ownchild + marital + grade92 + female*grade92\"\n",
    "model4 = \"w ~ female + age + female*age + agesq + race + grade92 + female*grade92+prcitshp + ownchild + marital + agecu + agequ + female*agecu + female*agequ\"\n",
    "\n",
    "\n",
    "model_equations = [model1, model2, model3, model4]"
   ]
  },
  {
   "cell_type": "code",
   "execution_count": null,
   "id": "98cbc9e6",
   "metadata": {},
   "outputs": [],
   "source": [
    "regs = []\n",
    "for equation in model_equations:\n",
    "   regs.append(smf.ols(equation, df).fit(cov_type=\"HC1\"))"
   ]
  },
  {
   "cell_type": "code",
   "execution_count": null,
   "id": "f1a7f2a9",
   "metadata": {},
   "outputs": [],
   "source": [
    "stargazer.Stargazer(regs)"
   ]
  },
  {
   "cell_type": "code",
   "execution_count": null,
   "id": "e8f22047",
   "metadata": {},
   "outputs": [],
   "source": [
    " # RMSE of models in the full sample\n",
    "w_real = df[\"w\"].values.tolist()\n",
    "RMSEs = []\n",
    "for reg in regs:\n",
    "    w_pred = reg.predict()\n",
    "    RMSEs.append(rmse(w_real, w_pred))\n",
    "RMSEs = [float('{:.3f}'.format(i)) for i in RMSEs]\n",
    "RMSEs"
   ]
  },
  {
   "cell_type": "code",
   "execution_count": null,
   "id": "ac12ef2b",
   "metadata": {},
   "outputs": [],
   "source": [
    "# BIC of models in the full sample\n",
    "BICs = []\n",
    "for reg in regs:\n",
    "    BICs.append(reg.bic)\n",
    "BICs = [float('{:.3f}'.format(i)) for i in BICs]\n",
    "BICs"
   ]
  },
  {
   "cell_type": "code",
   "execution_count": null,
   "id": "459c9655",
   "metadata": {},
   "outputs": [],
   "source": [
    "results = pd.Series(\"model_equations\")\n",
    "results[\"BICs\"] = BICs\n",
    "results[\"RMSEs\"] = RMSEs\n",
    "results"
   ]
  },
  {
   "cell_type": "code",
   "execution_count": null,
   "id": "992a8a54",
   "metadata": {},
   "outputs": [],
   "source": [
    "import statsmodels.formula.api as smf\n",
    "from sklearn.model_selection import KFold\n",
    "from statsmodels.tools.eval_measures import rmse\n",
    "\n",
    "\n",
    "def ols_crossvalidator(formula: str, data: pd.DataFrame, n_folds=5, average_rmse=True):\n",
    "\n",
    "\n",
    "    # Get dependent variable\n",
    "\n",
    "    y = formula.split(\"~\")[0].strip()\n",
    "\n",
    "    # Get statistics on the whole work data\n",
    "\n",
    "    model = smf.ols(formula, data=data).fit()\n",
    "\n",
    "    rsquared = model.rsquared\n",
    "    # n_coefficients = model.params.shape[0]\n",
    "    n_coefficients = (\n",
    "        model.df_model + 1\n",
    "    )  # This might differ from model.params.shape[0], because of collinear predictors\n",
    "    bic = model.bic\n",
    "    rmse_alldata = rmse(model.predict(), data[y])\n",
    "\n",
    "    # Calculating test and train RMSE-s for each fold\n",
    "\n",
    "    k = KFold(n_splits=n_folds, shuffle=False, random_state=None)\n",
    "\n",
    "    rmse_train = []\n",
    "    rmse_test = []\n",
    "\n",
    "    for train_index, test_index in k.split(data):\n",
    "\n",
    "        data_train, data_test = data.iloc[train_index, :], data.iloc[test_index, :]\n",
    "\n",
    "        model = smf.ols(formula, data=data_train).fit()\n",
    "\n",
    "        rmse_train.append(rmse(data_train[y], model.predict(data_train)))\n",
    "        rmse_test.append(rmse(data_test[y], model.predict(data_test)))\n",
    "\n",
    "    if average_rmse:\n",
    "        rmse_train = np.mean(rmse_train)\n",
    "        rmse_test = np.mean(rmse_test)\n",
    "\n",
    "    return {\n",
    "        \"RMSE\": rmse_alldata,\n",
    "        \"R-squared\": rsquared,\n",
    "        \"BIC\": bic,\n",
    "        \"Coefficients\": n_coefficients,\n",
    "        \"Training RMSE\": rmse_train,\n",
    "        \"Test RMSE\": rmse_test,\n",
    "    }"
   ]
  },
  {
   "cell_type": "code",
   "execution_count": null,
   "id": "e09a9c6d",
   "metadata": {},
   "outputs": [],
   "source": [
    "n_fold = 4"
   ]
  },
  {
   "cell_type": "code",
   "execution_count": null,
   "id": "99549201",
   "metadata": {},
   "outputs": [],
   "source": [
    "cv_list = []\n",
    "for equation in model_equations:\n",
    "    cv_list.append(ols_crossvalidator(equation, df, n_fold, average_rmse=False))"
   ]
  },
  {
   "cell_type": "code",
   "execution_count": null,
   "id": "2e2d1961",
   "metadata": {},
   "outputs": [],
   "source": [
    "(\n",
    "    pd.DataFrame(cv_list)\n",
    "    .round(3)\n",
    "    .assign(\n",
    "        RMSE=lambda x: x[\"RMSE\"],\n",
    "        BIC=lambda x: x[\"BIC\"].astype(int),\n",
    "        Coefficients=lambda x: x[\"Coefficients\"].astype(int),\n",
    "        Model=[\"Model \" + str(i + 1) for i in range(len(model_equations))],\n",
    "    )\n",
    "    .filter([\"Model\", \"Coefficients\", \"R-squared\", \"RMSE\", \"BIC\"])\n",
    "    .set_index(\"Model\")\n",
    ")"
   ]
  },
  {
   "cell_type": "code",
   "execution_count": null,
   "id": "b40a0056",
   "metadata": {},
   "outputs": [],
   "source": [
    "pd.DataFrame(\n",
    "    [cv[\"Test RMSE\"] for cv in cv_list],\n",
    "    index=[\"Model \" + str(i + 1) for i in range(len(cv_list))],\n",
    "    columns=[\"Fold\" + str(i + 1) for i in range(len(cv_list[0][\"Test RMSE\"]))],\n",
    ").assign(Average=lambda x: x.mean(axis=1)).T"
   ]
  },
  {
   "cell_type": "code",
   "execution_count": null,
   "id": "10dc180c",
   "metadata": {},
   "outputs": [],
   "source": []
  },
  {
   "cell_type": "code",
   "execution_count": null,
   "id": "86cb6817",
   "metadata": {},
   "outputs": [],
   "source": []
  }
 ],
 "metadata": {
  "kernelspec": {
   "display_name": "Python 3",
   "language": "python",
   "name": "python3"
  },
  "language_info": {
   "codemirror_mode": {
    "name": "ipython",
    "version": 3
   },
   "file_extension": ".py",
   "mimetype": "text/x-python",
   "name": "python",
   "nbconvert_exporter": "python",
   "pygments_lexer": "ipython3",
   "version": "3.8.8"
  }
 },
 "nbformat": 4,
 "nbformat_minor": 5
}
