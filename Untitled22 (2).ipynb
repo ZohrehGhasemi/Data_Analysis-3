{
 "cells": [
  {
   "cell_type": "code",
   "execution_count": null,
   "id": "da3d1340",
   "metadata": {
    "scrolled": false
   },
   "outputs": [],
   "source": [
    "!pip install py_helper_functions"
   ]
  },
  {
   "cell_type": "code",
   "execution_count": null,
   "id": "504c99c3",
   "metadata": {},
   "outputs": [],
   "source": [
    "!pip install scikit-misc"
   ]
  },
  {
   "cell_type": "code",
   "execution_count": 1,
   "id": "dee5690b",
   "metadata": {},
   "outputs": [],
   "source": [
    "####################################################\n",
    "# Import packages\n",
    "####################################################\n",
    "import numpy as np\n",
    "import copy\n",
    "import pandas as pd\n",
    "from plotnine import *\n",
    "import os\n",
    "import sys\n",
    "import warnings\n",
    "\n",
    "import matplotlib.pyplot as plt\n",
    "import numpy as np\n",
    "import pandas as pd\n",
    "import patsy\n",
    "import sklearn.metrics as metrics\n",
    "import statsmodels.formula.api as smf\n",
    "from plotnine import *\n",
    "from sklearn.ensemble import RandomForestClassifier\n",
    "from sklearn.linear_model import (\n",
    "    LinearRegression,\n",
    "    LogisticRegression,\n",
    "    LogisticRegressionCV,\n",
    ")\n",
    "from sklearn.metrics import (\n",
    "    auc,\n",
    "    brier_score_loss,\n",
    "    confusion_matrix,\n",
    "    mean_squared_error,\n",
    "    roc_auc_score,\n",
    "    roc_curve,\n",
    ")\n",
    "from sklearn.model_selection import GridSearchCV, KFold, train_test_split\n",
    "from sklearn.preprocessing import StandardScaler\n",
    "from statsmodels.tools.eval_measures import rmse\n",
    "\n",
    "warnings.filterwarnings(\"ignore\")\n",
    "\n",
    "####################################################\n",
    "# Define global vars\n",
    "####################################################\n",
    "color = [\"#3a5e8cFF\", \"#10a53dFF\", \"#541352FF\", \"#ffcf20FF\", \"#2f9aa0FF\"]\n",
    "\n",
    "\n",
    "####################################################\n",
    "# Define helper functions\n",
    "####################################################\n",
    "def seq(start, stop, by, round_n=3):\n",
    "    return [round(x, round_n) for x in list(np.arange(start, stop, by))]\n",
    "\n",
    "\n",
    "def skew(l, round_n=3):\n",
    "    return round((np.mean(l) - np.median(l)) / np.std(l), round_n)\n",
    "\n",
    "\n",
    "def lspline(series, knots):\n",
    "    def knot_ceil(vector, knot):\n",
    "        vector_copy = copy.deepcopy(vector)\n",
    "        vector_copy[vector_copy > knot] = knot\n",
    "        return vector_copy\n",
    "\n",
    "    if type(knots) != list:\n",
    "        knots = [knots]\n",
    "    design_matrix = None\n",
    "    vector = series.values\n",
    "\n",
    "    for i in range(len(knots)):\n",
    "        # print(i)\n",
    "        # print(vector)\n",
    "        if i == 0:\n",
    "            column = knot_ceil(vector, knots[i])\n",
    "        else:\n",
    "            column = knot_ceil(vector, knots[i] - knots[i - 1])\n",
    "        # print(column)\n",
    "        if i == 0:\n",
    "            design_matrix = column\n",
    "        else:\n",
    "            design_matrix = np.column_stack((design_matrix, column))\n",
    "        # print(design_matrix)\n",
    "        vector = vector - column\n",
    "    design_matrix = np.column_stack((design_matrix, vector))\n",
    "    # print(design_matrix)\n",
    "    return design_matrix\n",
    "\n",
    "def create_calibration_plot(\n",
    "    data,\n",
    "    file_name,\n",
    "    prob_var,\n",
    "    actual_var,\n",
    "    y_lab=\"Actual event probability\",\n",
    "    n_bins=10,\n",
    "    breaks=None,\n",
    "):\n",
    "    if breaks is None:\n",
    "        breaks = np.around(\n",
    "            np.linspace(0, (n_bins + 1) / 10, num=n_bins + 1, endpoint=False),\n",
    "            decimals=1,\n",
    "        ).tolist()\n",
    "\n",
    "    data[\"prob_bin\"] = pd.cut(data[prob_var], breaks, right=True, include_lowest=True)\n",
    "\n",
    "    binned_data = (\n",
    "        data.groupby(\"prob_bin\")\n",
    "        .agg(\n",
    "            mean_prob=(prob_var, \"mean\"),\n",
    "            mean_actual=(actual_var, \"mean\"),\n",
    "            n=(actual_var, \"size\"),\n",
    "        )\n",
    "        .reset_index()\n",
    "    )\n",
    "\n",
    "    plot = (\n",
    "        ggplot(binned_data, aes(\"mean_prob\", \"mean_actual\"))\n",
    "        + geom_line(color=color[0], size=1, show_legend=True)\n",
    "        + geom_point(\n",
    "            color=color[0],\n",
    "            size=1,\n",
    "            alpha=0.7,\n",
    "            show_legend=False,\n",
    "            na_rm=True,\n",
    "        )\n",
    "        + geom_segment(\n",
    "            x=min(breaks),\n",
    "            xend=max(breaks),\n",
    "            y=min(breaks),\n",
    "            yend=max(breaks),\n",
    "            color=color[1],\n",
    "            size=0.5,\n",
    "        )\n",
    "        + theme_bw()\n",
    "        + labs(x=\"Predicted event probability\", y=y_lab)\n",
    "        + coord_cartesian(xlim=(0, 1), ylim=(0, 1))\n",
    "        + expand_limits(x=0.01, y=0.01)\n",
    "        + scale_y_continuous(expand=(0.01, 0.01), breaks=(seq(0, 1.1, 0.1)))\n",
    "        + scale_x_continuous(expand=(0.01, 0.01), breaks=(seq(0, 1.1, 0.1)))\n",
    "    )\n",
    "\n",
    "    return plot\n",
    "\n",
    "\n",
    "def poly(x, degree=1):\n",
    "    \"\"\"\n",
    "    Fit Polynomial\n",
    "    These are non orthogonal factors, but it may not matter if\n",
    "    we only need this for predictions (without interpreting the\n",
    "    coefficients) or visualisation.\n",
    "    \"\"\"\n",
    "    d = {}\n",
    "    for i in range(degree+1):\n",
    "        if i == 1:\n",
    "            d['x'] = x\n",
    "        else:\n",
    "            d[f'x**{i}'] = np.power(x, i)\n",
    "    return pd.DataFrame(d)"
   ]
  },
  {
   "cell_type": "code",
   "execution_count": 2,
   "id": "f423a4c1",
   "metadata": {},
   "outputs": [],
   "source": [
    "\n",
    "import os\n",
    "import sys\n",
    "import warnings\n",
    "\n",
    "import numpy as np\n",
    "import pandas as pd\n",
    "import statsmodels.formula.api as smf\n",
    "from plotnine import *\n",
    "\n",
    "\n",
    "warnings.filterwarnings(\"ignore\")"
   ]
  },
  {
   "cell_type": "code",
   "execution_count": 3,
   "id": "ca8a03fc",
   "metadata": {},
   "outputs": [],
   "source": [
    "# Current script folder\n",
    "#path = os.getcwd()\n",
    "#base_dir = path.split(\"da_case_studies\")[0]\n",
    "\n",
    "#data_dir = base_dir + \"da_data_repo\""
   ]
  },
  {
   "cell_type": "code",
   "execution_count": 4,
   "id": "28fb6dfd",
   "metadata": {},
   "outputs": [],
   "source": [
    "os.chdir('C:\\second year winter')"
   ]
  },
  {
   "cell_type": "code",
   "execution_count": 5,
   "id": "5ec8cc41",
   "metadata": {},
   "outputs": [],
   "source": [
    "df= pd.read_csv(\"cs_bisnode_panel.csv\" , header = 0, sep =',')"
   ]
  },
  {
   "cell_type": "code",
   "execution_count": 6,
   "id": "9f3d6f9e",
   "metadata": {},
   "outputs": [
    {
     "data": {
      "text/html": [
       "<div>\n",
       "<style scoped>\n",
       "    .dataframe tbody tr th:only-of-type {\n",
       "        vertical-align: middle;\n",
       "    }\n",
       "\n",
       "    .dataframe tbody tr th {\n",
       "        vertical-align: top;\n",
       "    }\n",
       "\n",
       "    .dataframe thead th {\n",
       "        text-align: right;\n",
       "    }\n",
       "</style>\n",
       "<table border=\"1\" class=\"dataframe\">\n",
       "  <thead>\n",
       "    <tr style=\"text-align: right;\">\n",
       "      <th></th>\n",
       "      <th>year</th>\n",
       "      <th>comp_id</th>\n",
       "      <th>COGS</th>\n",
       "      <th>amort</th>\n",
       "      <th>curr_assets</th>\n",
       "      <th>curr_liab</th>\n",
       "      <th>extra_exp</th>\n",
       "      <th>extra_inc</th>\n",
       "      <th>extra_profit_loss</th>\n",
       "      <th>finished_prod</th>\n",
       "      <th>...</th>\n",
       "      <th>default</th>\n",
       "      <th>ln_sales</th>\n",
       "      <th>sales_mil</th>\n",
       "      <th>sales_mil_log</th>\n",
       "      <th>d1_sales_mil_log</th>\n",
       "      <th>age</th>\n",
       "      <th>new</th>\n",
       "      <th>sale_growth</th>\n",
       "      <th>sale_growth_target</th>\n",
       "      <th>high_growth_firm</th>\n",
       "    </tr>\n",
       "  </thead>\n",
       "  <tbody>\n",
       "    <tr>\n",
       "      <th>count</th>\n",
       "      <td>21723.0</td>\n",
       "      <td>2.172300e+04</td>\n",
       "      <td>1.129000e+03</td>\n",
       "      <td>2.168300e+04</td>\n",
       "      <td>2.171300e+04</td>\n",
       "      <td>2.171300e+04</td>\n",
       "      <td>2.172300e+04</td>\n",
       "      <td>2.172300e+04</td>\n",
       "      <td>2.172300e+04</td>\n",
       "      <td>1.075000e+03</td>\n",
       "      <td>...</td>\n",
       "      <td>21723.0</td>\n",
       "      <td>21723.000000</td>\n",
       "      <td>21723.000000</td>\n",
       "      <td>21723.000000</td>\n",
       "      <td>21723.0</td>\n",
       "      <td>19713.000000</td>\n",
       "      <td>21723.0</td>\n",
       "      <td>21722.000000</td>\n",
       "      <td>21722.000000</td>\n",
       "      <td>21723.000000</td>\n",
       "    </tr>\n",
       "    <tr>\n",
       "      <th>mean</th>\n",
       "      <td>2012.0</td>\n",
       "      <td>1.536114e+11</td>\n",
       "      <td>1.719788e+05</td>\n",
       "      <td>9.054888e+03</td>\n",
       "      <td>9.989281e+04</td>\n",
       "      <td>8.724403e+04</td>\n",
       "      <td>1.222984e+03</td>\n",
       "      <td>2.395827e+03</td>\n",
       "      <td>1.169621e+03</td>\n",
       "      <td>3.449212e+04</td>\n",
       "      <td>...</td>\n",
       "      <td>0.0</td>\n",
       "      <td>10.711084</td>\n",
       "      <td>0.230903</td>\n",
       "      <td>-3.104427</td>\n",
       "      <td>0.0</td>\n",
       "      <td>8.785066</td>\n",
       "      <td>1.0</td>\n",
       "      <td>1654.130915</td>\n",
       "      <td>1654.130915</td>\n",
       "      <td>0.499517</td>\n",
       "    </tr>\n",
       "    <tr>\n",
       "      <th>std</th>\n",
       "      <td>0.0</td>\n",
       "      <td>1.381009e+11</td>\n",
       "      <td>5.255809e+05</td>\n",
       "      <td>4.921305e+04</td>\n",
       "      <td>4.610725e+05</td>\n",
       "      <td>5.110353e+05</td>\n",
       "      <td>1.158699e+05</td>\n",
       "      <td>1.201532e+05</td>\n",
       "      <td>3.092631e+04</td>\n",
       "      <td>1.721356e+05</td>\n",
       "      <td>...</td>\n",
       "      <td>0.0</td>\n",
       "      <td>1.711001</td>\n",
       "      <td>0.772057</td>\n",
       "      <td>1.711001</td>\n",
       "      <td>0.0</td>\n",
       "      <td>6.929962</td>\n",
       "      <td>0.0</td>\n",
       "      <td>13192.564477</td>\n",
       "      <td>13192.564477</td>\n",
       "      <td>0.500011</td>\n",
       "    </tr>\n",
       "    <tr>\n",
       "      <th>min</th>\n",
       "      <td>2012.0</td>\n",
       "      <td>1.001541e+06</td>\n",
       "      <td>-1.031000e+05</td>\n",
       "      <td>-1.489630e+04</td>\n",
       "      <td>-3.460000e+04</td>\n",
       "      <td>-8.759259e+03</td>\n",
       "      <td>-1.418519e+03</td>\n",
       "      <td>-1.740741e+02</td>\n",
       "      <td>-2.888889e+05</td>\n",
       "      <td>0.000000e+00</td>\n",
       "      <td>...</td>\n",
       "      <td>0.0</td>\n",
       "      <td>6.907755</td>\n",
       "      <td>0.001000</td>\n",
       "      <td>-6.907755</td>\n",
       "      <td>0.0</td>\n",
       "      <td>0.000000</td>\n",
       "      <td>1.0</td>\n",
       "      <td>-99.986065</td>\n",
       "      <td>-99.986065</td>\n",
       "      <td>0.000000</td>\n",
       "    </tr>\n",
       "    <tr>\n",
       "      <th>25%</th>\n",
       "      <td>2012.0</td>\n",
       "      <td>2.888468e+10</td>\n",
       "      <td>0.000000e+00</td>\n",
       "      <td>1.148148e+02</td>\n",
       "      <td>3.251852e+03</td>\n",
       "      <td>3.566667e+03</td>\n",
       "      <td>0.000000e+00</td>\n",
       "      <td>0.000000e+00</td>\n",
       "      <td>0.000000e+00</td>\n",
       "      <td>0.000000e+00</td>\n",
       "      <td>...</td>\n",
       "      <td>0.0</td>\n",
       "      <td>9.570214</td>\n",
       "      <td>0.014331</td>\n",
       "      <td>-4.245297</td>\n",
       "      <td>0.0</td>\n",
       "      <td>2.000000</td>\n",
       "      <td>1.0</td>\n",
       "      <td>-79.894472</td>\n",
       "      <td>-79.894472</td>\n",
       "      <td>0.000000</td>\n",
       "    </tr>\n",
       "    <tr>\n",
       "      <th>50%</th>\n",
       "      <td>2012.0</td>\n",
       "      <td>1.143027e+11</td>\n",
       "      <td>8.007407e+03</td>\n",
       "      <td>8.555555e+02</td>\n",
       "      <td>1.120741e+04</td>\n",
       "      <td>1.411111e+04</td>\n",
       "      <td>0.000000e+00</td>\n",
       "      <td>0.000000e+00</td>\n",
       "      <td>0.000000e+00</td>\n",
       "      <td>0.000000e+00</td>\n",
       "      <td>...</td>\n",
       "      <td>0.0</td>\n",
       "      <td>10.639765</td>\n",
       "      <td>0.041763</td>\n",
       "      <td>-3.175745</td>\n",
       "      <td>0.0</td>\n",
       "      <td>7.000000</td>\n",
       "      <td>1.0</td>\n",
       "      <td>-0.203658</td>\n",
       "      <td>-0.203658</td>\n",
       "      <td>0.000000</td>\n",
       "    </tr>\n",
       "    <tr>\n",
       "      <th>75%</th>\n",
       "      <td>2012.0</td>\n",
       "      <td>2.580121e+11</td>\n",
       "      <td>8.030000e+04</td>\n",
       "      <td>3.890741e+03</td>\n",
       "      <td>3.896296e+04</td>\n",
       "      <td>4.662593e+04</td>\n",
       "      <td>0.000000e+00</td>\n",
       "      <td>0.000000e+00</td>\n",
       "      <td>0.000000e+00</td>\n",
       "      <td>0.000000e+00</td>\n",
       "      <td>...</td>\n",
       "      <td>0.0</td>\n",
       "      <td>11.776585</td>\n",
       "      <td>0.130169</td>\n",
       "      <td>-2.038925</td>\n",
       "      <td>0.0</td>\n",
       "      <td>15.000000</td>\n",
       "      <td>1.0</td>\n",
       "      <td>400.992643</td>\n",
       "      <td>400.992643</td>\n",
       "      <td>1.000000</td>\n",
       "    </tr>\n",
       "    <tr>\n",
       "      <th>max</th>\n",
       "      <td>2012.0</td>\n",
       "      <td>4.641050e+11</td>\n",
       "      <td>6.237974e+06</td>\n",
       "      <td>3.570863e+06</td>\n",
       "      <td>2.066350e+07</td>\n",
       "      <td>4.186429e+07</td>\n",
       "      <td>1.704172e+07</td>\n",
       "      <td>1.709232e+07</td>\n",
       "      <td>3.253704e+06</td>\n",
       "      <td>4.174670e+06</td>\n",
       "      <td>...</td>\n",
       "      <td>0.0</td>\n",
       "      <td>16.117026</td>\n",
       "      <td>9.989311</td>\n",
       "      <td>2.301516</td>\n",
       "      <td>0.0</td>\n",
       "      <td>34.000000</td>\n",
       "      <td>1.0</td>\n",
       "      <td>807195.939072</td>\n",
       "      <td>807195.939072</td>\n",
       "      <td>1.000000</td>\n",
       "    </tr>\n",
       "  </tbody>\n",
       "</table>\n",
       "<p>8 rows × 52 columns</p>\n",
       "</div>"
      ],
      "text/plain": [
       "          year       comp_id          COGS         amort   curr_assets  \\\n",
       "count  21723.0  2.172300e+04  1.129000e+03  2.168300e+04  2.171300e+04   \n",
       "mean    2012.0  1.536114e+11  1.719788e+05  9.054888e+03  9.989281e+04   \n",
       "std        0.0  1.381009e+11  5.255809e+05  4.921305e+04  4.610725e+05   \n",
       "min     2012.0  1.001541e+06 -1.031000e+05 -1.489630e+04 -3.460000e+04   \n",
       "25%     2012.0  2.888468e+10  0.000000e+00  1.148148e+02  3.251852e+03   \n",
       "50%     2012.0  1.143027e+11  8.007407e+03  8.555555e+02  1.120741e+04   \n",
       "75%     2012.0  2.580121e+11  8.030000e+04  3.890741e+03  3.896296e+04   \n",
       "max     2012.0  4.641050e+11  6.237974e+06  3.570863e+06  2.066350e+07   \n",
       "\n",
       "          curr_liab     extra_exp     extra_inc  extra_profit_loss  \\\n",
       "count  2.171300e+04  2.172300e+04  2.172300e+04       2.172300e+04   \n",
       "mean   8.724403e+04  1.222984e+03  2.395827e+03       1.169621e+03   \n",
       "std    5.110353e+05  1.158699e+05  1.201532e+05       3.092631e+04   \n",
       "min   -8.759259e+03 -1.418519e+03 -1.740741e+02      -2.888889e+05   \n",
       "25%    3.566667e+03  0.000000e+00  0.000000e+00       0.000000e+00   \n",
       "50%    1.411111e+04  0.000000e+00  0.000000e+00       0.000000e+00   \n",
       "75%    4.662593e+04  0.000000e+00  0.000000e+00       0.000000e+00   \n",
       "max    4.186429e+07  1.704172e+07  1.709232e+07       3.253704e+06   \n",
       "\n",
       "       finished_prod  ...  default      ln_sales     sales_mil  sales_mil_log  \\\n",
       "count   1.075000e+03  ...  21723.0  21723.000000  21723.000000   21723.000000   \n",
       "mean    3.449212e+04  ...      0.0     10.711084      0.230903      -3.104427   \n",
       "std     1.721356e+05  ...      0.0      1.711001      0.772057       1.711001   \n",
       "min     0.000000e+00  ...      0.0      6.907755      0.001000      -6.907755   \n",
       "25%     0.000000e+00  ...      0.0      9.570214      0.014331      -4.245297   \n",
       "50%     0.000000e+00  ...      0.0     10.639765      0.041763      -3.175745   \n",
       "75%     0.000000e+00  ...      0.0     11.776585      0.130169      -2.038925   \n",
       "max     4.174670e+06  ...      0.0     16.117026      9.989311       2.301516   \n",
       "\n",
       "       d1_sales_mil_log           age      new    sale_growth  \\\n",
       "count           21723.0  19713.000000  21723.0   21722.000000   \n",
       "mean                0.0      8.785066      1.0    1654.130915   \n",
       "std                 0.0      6.929962      0.0   13192.564477   \n",
       "min                 0.0      0.000000      1.0     -99.986065   \n",
       "25%                 0.0      2.000000      1.0     -79.894472   \n",
       "50%                 0.0      7.000000      1.0      -0.203658   \n",
       "75%                 0.0     15.000000      1.0     400.992643   \n",
       "max                 0.0     34.000000      1.0  807195.939072   \n",
       "\n",
       "       sale_growth_target  high_growth_firm  \n",
       "count        21722.000000      21723.000000  \n",
       "mean          1654.130915          0.499517  \n",
       "std          13192.564477          0.500011  \n",
       "min            -99.986065          0.000000  \n",
       "25%            -79.894472          0.000000  \n",
       "50%             -0.203658          0.000000  \n",
       "75%            400.992643          1.000000  \n",
       "max         807195.939072          1.000000  \n",
       "\n",
       "[8 rows x 52 columns]"
      ]
     },
     "execution_count": 6,
     "metadata": {},
     "output_type": "execute_result"
    }
   ],
   "source": [
    "df.describe()"
   ]
  },
  {
   "cell_type": "code",
   "execution_count": 7,
   "id": "88c59c1d",
   "metadata": {},
   "outputs": [],
   "source": [
    "# Import the prewritten helper functions\n",
    "#from py_helper_functions import *"
   ]
  },
  {
   "cell_type": "code",
   "execution_count": 8,
   "id": "ff973760",
   "metadata": {},
   "outputs": [],
   "source": [
    "#Import data\n",
    "csv_path = os.path.join(\"cs_bisnode_panel.csv\")\n",
    "data = pd.read_csv(csv_path)"
   ]
  },
  {
   "cell_type": "code",
   "execution_count": 9,
   "id": "199685a2",
   "metadata": {},
   "outputs": [],
   "source": [
    "#Label engineering\n",
    "# add all missing year and comp_id combinations -\n",
    "# originally missing combinations will have NAs in all other columns\n",
    "data = (\n",
    "    data.set_index([\"year\", \"comp_id\"])\n",
    "    .unstack(fill_value=\"toReplace\")\n",
    "    .stack()\n",
    "    .reset_index()\n",
    ")\n",
    "data = data.replace(\"toReplace\", np.nan)  # only way I could define it as NaN\n"
   ]
  },
  {
   "cell_type": "code",
   "execution_count": 10,
   "id": "e2533e02",
   "metadata": {},
   "outputs": [],
   "source": [
    "# generate status_alive; if sales larger than zero and not-NA, then firm is alive\n",
    "data[\"status_alive\"] = (data[\"sales\"] > 0 & (False == data[\"sales\"].isna())).astype(int)\n",
    "\n",
    "# defaults in two years if there are sales in this year but no sales two years later\n",
    "# Status_in_two_years: data.groupby('comp_id')['status_alive'].shift(-2)\n",
    "data[\"default\"] = (\n",
    "    (data[\"status_alive\"] == 1)\n",
    "    & (data.groupby(\"comp_id\")[\"status_alive\"].shift(-2) == 0)\n",
    ").astype(int)"
   ]
  },
  {
   "cell_type": "code",
   "execution_count": 11,
   "id": "4caf1442",
   "metadata": {},
   "outputs": [],
   "source": [
    "data = data.query(\"year <= 2013\")\n"
   ]
  },
  {
   "cell_type": "code",
   "execution_count": 12,
   "id": "29da8d6a",
   "metadata": {},
   "outputs": [
    {
     "data": {
      "text/plain": [
       "count    21723.0\n",
       "mean         0.0\n",
       "std          0.0\n",
       "min          0.0\n",
       "25%          0.0\n",
       "50%          0.0\n",
       "75%          0.0\n",
       "max          0.0\n",
       "Name: default, dtype: float64"
      ]
     },
     "execution_count": 12,
     "metadata": {},
     "output_type": "execute_result"
    }
   ],
   "source": [
    "data[\"default\"].describe()\n"
   ]
  },
  {
   "cell_type": "code",
   "execution_count": 13,
   "id": "052c393f",
   "metadata": {},
   "outputs": [
    {
     "data": {
      "text/plain": [
       "count    2.172300e+04\n",
       "mean     2.309033e+05\n",
       "std      7.720574e+05\n",
       "min      1.000000e+03\n",
       "25%      1.433148e+04\n",
       "50%      4.176296e+04\n",
       "75%      1.301685e+05\n",
       "max      9.989311e+06\n",
       "Name: sales, dtype: float64"
      ]
     },
     "execution_count": 13,
     "metadata": {},
     "output_type": "execute_result"
    }
   ],
   "source": [
    "data[\"sales\"].describe()"
   ]
  },
  {
   "cell_type": "code",
   "execution_count": 14,
   "id": "e8dda71e",
   "metadata": {},
   "outputs": [],
   "source": [
    "data[\"sales\"] = np.where(\n",
    "    data[\"sales\"] < 0, 1, data[\"sales\"]\n",
    ")  # has to be outside of assin()\n",
    "data = data.assign(\n",
    "    ln_sales=np.where(\n",
    "        data[\"sales\"] > 0,\n",
    "        np.log(data[\"sales\"]),\n",
    "        (np.where(data[\"sales\"].isna(), np.nan, 0)),\n",
    "    ),  # NaN remain NaN\n",
    "    sales_mil=data[\"sales\"] / 1000000,\n",
    "    sales_mil_log=np.where(\n",
    "        data[\"sales\"] > 0,\n",
    "        np.log(data[\"sales\"] / 1000000),\n",
    "        (np.where(data[\"sales\"].isna(), np.nan, 0)),\n",
    "    ),\n",
    ")"
   ]
  },
  {
   "cell_type": "code",
   "execution_count": 15,
   "id": "242ea43e",
   "metadata": {},
   "outputs": [],
   "source": [
    "data[\"d1_sales_mil_log\"] = data[\"sales_mil_log\"] - data.groupby(\"comp_id\")[\n",
    "    \"sales_mil_log\"\n",
    "].shift(1)"
   ]
  },
  {
   "cell_type": "code",
   "execution_count": 16,
   "id": "7378b5b8",
   "metadata": {},
   "outputs": [],
   "source": [
    "data = data.assign(\n",
    "    sale_growth=data[\"sales\"].pct_change() * 100,\n",
    "    ln_sales=np.where(\n",
    "        data[\"sales\"] > 0,\n",
    "        np.log(data[\"sales\"]),\n",
    "        (np.where(data[\"sales\"].isna(), np.nan, 0)),\n",
    "    ),\n",
    "    sales_mil=data[\"sales\"] / 1000000,\n",
    "    sales_mil_log=np.where(\n",
    "        data[\"sales\"] > 0,\n",
    "        np.log(data[\"sales\"] / 1000000),\n",
    "        (np.where(data[\"sales\"].isna(), np.nan, 0)),\n",
    "    ),\n",
    ")\n"
   ]
  },
  {
   "cell_type": "code",
   "execution_count": 17,
   "id": "7bdf871b",
   "metadata": {},
   "outputs": [],
   "source": [
    "\n",
    "data[\"sale_growth\"] = data[\"ln_sales\"] - data.groupby(\"comp_id\")[\"ln_sales\"].shift(1)"
   ]
  },
  {
   "cell_type": "code",
   "execution_count": 18,
   "id": "dfb67497",
   "metadata": {},
   "outputs": [],
   "source": [
    "data[\"sale_growth_target\"] = data[\"sale_growth\"].shift(-1)"
   ]
  },
  {
   "cell_type": "code",
   "execution_count": 19,
   "id": "caf7e947",
   "metadata": {},
   "outputs": [],
   "source": [
    "data[\"high_growth_firm\"] = np.where(data[\"sale_growth\"]>0.2,1,0)"
   ]
  },
  {
   "cell_type": "code",
   "execution_count": 20,
   "id": "3e78918c",
   "metadata": {},
   "outputs": [],
   "source": [
    "# replace w 0 for new firms + add dummy to capture it\n",
    "data[\"age\"] = np.where(\n",
    "    data[\"year\"] - data[\"founded_year\"] < 0, 0, data[\"year\"] - data[\"founded_year\"]\n",
    ")\n",
    "data[\"new\"] = np.where(\n",
    "    ((data[\"age\"] <= 1) | (data[\"balsheet_notfullyear\"] == 1)),\n",
    "    1,\n",
    "    (np.where(data[\"age\"].isna(), np.nan, 0)),\n",
    ")\n",
    "data[\"d1_sales_mil_log\"] = np.where(\n",
    "    data[\"new\"] == 1, 0, np.where(data[\"new\"].isna(), np.nan, data[\"d1_sales_mil_log\"])\n",
    ")\n",
    "data[\"new\"] = np.where(data[\"d1_sales_mil_log\"].isna(), 1, data[\"new\"])\n",
    "data[\"d1_sales_mil_log\"] = np.where(\n",
    "    data[\"d1_sales_mil_log\"].isna(), 0, data[\"d1_sales_mil_log\"]\n",
    ")"
   ]
  },
  {
   "cell_type": "code",
   "execution_count": 21,
   "id": "f1f51ee7",
   "metadata": {},
   "outputs": [
    {
     "data": {
      "text/plain": [
       "count    21723.0\n",
       "mean         1.0\n",
       "std          0.0\n",
       "min          1.0\n",
       "25%          1.0\n",
       "50%          1.0\n",
       "75%          1.0\n",
       "max          1.0\n",
       "Name: new, dtype: float64"
      ]
     },
     "execution_count": 21,
     "metadata": {},
     "output_type": "execute_result"
    }
   ],
   "source": [
    "data[\"new\"].describe()\n"
   ]
  },
  {
   "cell_type": "code",
   "execution_count": 22,
   "id": "8394c20a",
   "metadata": {},
   "outputs": [],
   "source": [
    "#sample design \n",
    "# look at cross section\n",
    "data = data.query(\"year==2012 & status_alive == 1\")\n",
    "# look at firms below 10m euro revenues and above 1000 euros\n",
    "data = data.query(\"sales_mil<=10 & sales_mil>=0.001\")"
   ]
  },
  {
   "cell_type": "code",
   "execution_count": 23,
   "id": "fd70f5dc",
   "metadata": {},
   "outputs": [
    {
     "data": {
      "text/plain": [
       "count    21723.0\n",
       "mean         0.0\n",
       "std          0.0\n",
       "min          0.0\n",
       "25%          0.0\n",
       "50%          0.0\n",
       "75%          0.0\n",
       "max          0.0\n",
       "Name: default, dtype: float64"
      ]
     },
     "execution_count": 23,
     "metadata": {},
     "output_type": "execute_result"
    }
   ],
   "source": [
    "data[\"default\"].describe()"
   ]
  },
  {
   "cell_type": "code",
   "execution_count": 24,
   "id": "eea8979f",
   "metadata": {},
   "outputs": [],
   "source": [
    "data.to_csv(\"cs_bisnode_panel.csv\", index=False)"
   ]
  },
  {
   "cell_type": "code",
   "execution_count": 25,
   "id": "161c71cc",
   "metadata": {},
   "outputs": [],
   "source": [
    "#Feature engineering\n",
    "current_csv_path = os.path.join( \"cs_bisnode_panel.csv\")\n",
    "data = pd.read_csv(current_csv_path)"
   ]
  },
  {
   "cell_type": "code",
   "execution_count": 26,
   "id": "c6eb9e78",
   "metadata": {},
   "outputs": [],
   "source": [
    "# change some industry category codes\n",
    "data[\"ind2_cat\"] = data[\"ind2\"].copy()\n",
    "data[\"ind2_cat\"] = np.where(data[\"ind2\"] > 56, 60, data[\"ind2_cat\"])\n",
    "data[\"ind2_cat\"] = np.where(data[\"ind2\"] < 26, 20, data[\"ind2_cat\"])\n",
    "data[\"ind2_cat\"] = np.where(\n",
    "    (data[\"ind2\"] < 55) & (data[\"ind2\"] > 35), 40, data[\"ind2_cat\"]\n",
    ")\n",
    "data[\"ind2_cat\"] = np.where(data[\"ind2\"] == 31, 30, data[\"ind2_cat\"])\n",
    "data[\"ind2_cat\"] = np.where(data[\"ind2\"].isna(), 99, data[\"ind2_cat\"])"
   ]
  },
  {
   "cell_type": "code",
   "execution_count": 27,
   "id": "1864b9a1",
   "metadata": {},
   "outputs": [
    {
     "data": {
      "text/plain": [
       "ind2_cat\n",
       "20.0       50\n",
       "26.0     1080\n",
       "27.0      660\n",
       "28.0     1954\n",
       "29.0      287\n",
       "30.0      168\n",
       "32.0      148\n",
       "33.0     1944\n",
       "40.0      208\n",
       "55.0     2266\n",
       "56.0    12711\n",
       "60.0      242\n",
       "99.0        5\n",
       "Name: comp_id, dtype: int64"
      ]
     },
     "execution_count": 27,
     "metadata": {},
     "output_type": "execute_result"
    }
   ],
   "source": [
    "data.groupby(\"ind2_cat\").count()[\"comp_id\"]"
   ]
  },
  {
   "cell_type": "code",
   "execution_count": 28,
   "id": "83d23fcf",
   "metadata": {},
   "outputs": [],
   "source": [
    "# Firm characteristics\n",
    "data[\"age2\"] = data[\"age\"] ** 2\n",
    "data[\"foreign_management\"] = np.where(\n",
    "    data[\"foreign\"] >= 0.5, 1, np.where(data[\"foreign\"].isna(), np.nan, 0)\n",
    ")\n",
    "data[\"gender_m\"] = data[\"gender\"].astype(\"category\")\n",
    "data[\"m_region_loc\"] = data[\"region_m\"].astype(\"category\")"
   ]
  },
  {
   "cell_type": "code",
   "execution_count": 29,
   "id": "a594dadb",
   "metadata": {},
   "outputs": [
    {
     "data": {
      "text/plain": [
       "flag_asset_problem\n",
       "0.0    21700\n",
       "1.0       13\n",
       "Name: comp_id, dtype: int64"
      ]
     },
     "execution_count": 29,
     "metadata": {},
     "output_type": "execute_result"
    }
   ],
   "source": [
    "###########################################################\n",
    "# look at more financial variables, create ratios\n",
    "###########################################################\n",
    "\n",
    "# assets can't be negative. Change them to 0 and add a flag.\n",
    "data[\"flag_asset_problem\"] = np.where(\n",
    "    (\n",
    "        (data[\"intang_assets\"] < 0)\n",
    "        | (data[\"curr_assets\"] < 0)\n",
    "        | (data[\"fixed_assets\"] < 0)\n",
    "    ),\n",
    "    1,\n",
    "    0,\n",
    ")\n",
    "data[\"flag_asset_problem\"] = np.where(\n",
    "    (\n",
    "        (data[\"intang_assets\"].isna())\n",
    "        | (data[\"curr_assets\"].isna())\n",
    "        | (data[\"fixed_assets\"].isna())\n",
    "    ),\n",
    "    np.nan,\n",
    "    data[\"flag_asset_problem\"],\n",
    ")\n",
    "data.groupby(\"flag_asset_problem\").count()[\"comp_id\"]"
   ]
  },
  {
   "cell_type": "code",
   "execution_count": 30,
   "id": "494ed464",
   "metadata": {},
   "outputs": [],
   "source": [
    "data[\"intang_assets\"] = np.where(data[\"intang_assets\"] < 0, 0, data[\"intang_assets\"])\n",
    "data[\"curr_assets\"] = np.where(data[\"curr_assets\"] < 0, 0, data[\"curr_assets\"])\n",
    "data[\"fixed_assets\"] = np.where(data[\"fixed_assets\"] < 0, 0, data[\"fixed_assets\"])"
   ]
  },
  {
   "cell_type": "code",
   "execution_count": 31,
   "id": "c0b9abd9",
   "metadata": {},
   "outputs": [
    {
     "data": {
      "text/plain": [
       "count    2.171300e+04\n",
       "mean     2.525889e+05\n",
       "std      1.383198e+06\n",
       "min      0.000000e+00\n",
       "25%      6.466667e+03\n",
       "50%      2.382963e+04\n",
       "75%      9.346296e+04\n",
       "max      1.046833e+08\n",
       "Name: total_assets_bs, dtype: float64"
      ]
     },
     "execution_count": 31,
     "metadata": {},
     "output_type": "execute_result"
    }
   ],
   "source": [
    "# generate total assets\n",
    "data[\"total_assets_bs\"] = (\n",
    "    data[\"intang_assets\"] + data[\"curr_assets\"] + data[\"fixed_assets\"]\n",
    ")\n",
    "data[\"total_assets_bs\"].describe()"
   ]
  },
  {
   "cell_type": "code",
   "execution_count": 32,
   "id": "ef9228b3",
   "metadata": {},
   "outputs": [],
   "source": [
    "pl_names = [\n",
    "    \"extra_exp\",\n",
    "    \"extra_inc\",\n",
    "    \"extra_profit_loss\",\n",
    "    \"inc_bef_tax\",\n",
    "    \"inventories\",\n",
    "    \"material_exp\",\n",
    "    \"profit_loss_year\",\n",
    "    \"personnel_exp\",\n",
    "]\n",
    "bs_names = [\n",
    "    \"intang_assets\",\n",
    "    \"curr_liab\",\n",
    "    \"fixed_assets\",\n",
    "    \"liq_assets\",\n",
    "    \"curr_assets\",\n",
    "    \"share_eq\",\n",
    "    \"subscribed_cap\",\n",
    "    \"tang_assets\",\n",
    "]"
   ]
  },
  {
   "cell_type": "code",
   "execution_count": 33,
   "id": "fd4e891b",
   "metadata": {},
   "outputs": [],
   "source": [
    "# divide all pl_names elements by sales and create new column for it\n",
    "data[[col + \"_pl\" for col in pl_names]] = data[pl_names].div(\n",
    "    data[\"sales\"], axis=\"index\"\n",
    ")"
   ]
  },
  {
   "cell_type": "code",
   "execution_count": 34,
   "id": "c04e3c0e",
   "metadata": {},
   "outputs": [],
   "source": [
    "# divide all bs_names elements by total_assets_bs and create new column for it\n",
    "data[[col + \"_bs\" for col in bs_names]] = (\n",
    "    data[bs_names]\n",
    "    .div(data[\"total_assets_bs\"], axis=\"index\")\n",
    "    .replace((np.inf, -np.inf, np.nan), (0, 0, 0))\n",
    ")\n",
    "# get Nan values where total_assets_bs is NaN\n",
    "for col in bs_names:\n",
    "    data[col + \"_bs\"] = np.where(\n",
    "        data[\"total_assets_bs\"].isna(), np.nan, data[col + \"_bs\"]\n",
    "    )"
   ]
  },
  {
   "cell_type": "code",
   "execution_count": 35,
   "id": "3c1f9e12",
   "metadata": {},
   "outputs": [],
   "source": [
    "########################################################################\n",
    "# creating flags, and winsorizing tails\n",
    "########################################################################\n",
    "\n",
    "# Variables that represent accounting items that cannot be negative (e.g. materials)\n",
    "zero = [\n",
    "    \"extra_exp_pl\",\n",
    "    \"extra_inc_pl\",\n",
    "    \"inventories_pl\",\n",
    "    \"material_exp_pl\",\n",
    "    \"personnel_exp_pl\",\n",
    "    \"curr_liab_bs\",\n",
    "    \"fixed_assets_bs\",\n",
    "    \"liq_assets_bs\",\n",
    "    \"curr_assets_bs\",\n",
    "    \"subscribed_cap_bs\",\n",
    "    \"intang_assets_bs\",\n",
    "]\n",
    "\n",
    "data[[col + \"_flag_high\" for col in zero]] = np.where(\n",
    "    data[zero].isna(), np.nan, (data[zero] > 1).astype(int)\n",
    ")\n",
    "data[[col for col in zero]] = np.where(\n",
    "    data[zero].isna(), np.nan, np.where(data[zero] > 1, 1, data[zero])\n",
    ")\n",
    "data[[col + \"_flag_error\" for col in zero]] = np.where(\n",
    "    data[zero].isna(), np.nan, (data[zero] < 0).astype(int)\n",
    ")\n",
    "data[[col for col in zero]] = np.where(\n",
    "    data[zero].isna(), np.nan, np.where(data[zero] < 0, 0, data[zero])\n",
    ")"
   ]
  },
  {
   "cell_type": "code",
   "execution_count": 36,
   "id": "2ea4dcf6",
   "metadata": {},
   "outputs": [],
   "source": [
    "# for vars that could be any, but are mostly between -1 and 1\n",
    "anyof = [\"extra_profit_loss_pl\", \"inc_bef_tax_pl\", \"profit_loss_year_pl\", \"share_eq_bs\"]\n",
    "\n",
    "data[[col + \"_flag_low\" for col in anyof]] = np.where(\n",
    "    data[anyof].isna(), np.nan, (data[anyof] < -1).astype(int)\n",
    ")\n",
    "data[[col for col in anyof]] = np.where(\n",
    "    data[anyof].isna(), np.nan, np.where((data[anyof] < -1), -1, data[anyof])\n",
    ")\n",
    "data[[col + \"_flag_high\" for col in anyof]] = np.where(\n",
    "    data[anyof].isna(), np.nan, (data[anyof] > 1).astype(int)\n",
    ")\n",
    "data[[col for col in anyof]] = np.where(\n",
    "    data[anyof].isna(), np.nan, np.where((data[anyof] > 1), 1, data[anyof])\n",
    ")\n",
    "data[[col + \"_flag_zero\" for col in anyof]] = np.where(\n",
    "    data[anyof].isna(), np.nan, (data[anyof] == 0).astype(int)\n",
    ")\n",
    "data[[col + \"_quad\" for col in anyof]] = np.where(\n",
    "    data[anyof].isna(), np.nan, data[anyof] ** 2\n",
    ")"
   ]
  },
  {
   "cell_type": "code",
   "execution_count": 37,
   "id": "5343d544",
   "metadata": {},
   "outputs": [],
   "source": [
    "# dropping flags with no variation\n",
    "flag_columns = [col for col in data.columns if \"flag\" in col]\n",
    "data = data.drop(\n",
    "    data[flag_columns].std()[(data[flag_columns].std() == 0)].index, axis=1\n",
    ")"
   ]
  },
  {
   "cell_type": "code",
   "execution_count": 38,
   "id": "ead32b3b",
   "metadata": {},
   "outputs": [],
   "source": [
    "########################################################################\n",
    "# additional\n",
    "# including some imputation\n",
    "########################################################################\n",
    "\n",
    "# CEO age\n",
    "data[\"ceo_age\"] = data[\"year\"] - data[\"birth_year\"]\n",
    "data = data.assign(\n",
    "    flag_low_ceo_age=(data[\"ceo_age\"] < 25).astype(int),\n",
    "    flag_high_ceo_age=(data[\"ceo_age\"] > 75).astype(int),\n",
    "    flag_miss_ceo_age=(data[\"ceo_age\"].isna()).astype(int),\n",
    ")\n",
    "\n",
    "\n",
    "data[\"ceo_age\"] = np.where(data[\"ceo_age\"] < 25, 25, data[\"ceo_age\"])\n",
    "data[\"ceo_age\"] = np.where(data[\"ceo_age\"] > 75, 75, data[\"ceo_age\"])\n",
    "data[\"ceo_age\"] = np.where(\n",
    "    data[\"ceo_age\"].isna(), data[\"ceo_age\"].mean(), data[\"ceo_age\"]\n",
    ")\n",
    "data[\"ceo_young\"] = (data[\"ceo_age\"] < 40).astype(int)"
   ]
  },
  {
   "cell_type": "code",
   "execution_count": 39,
   "id": "5f07f3c8",
   "metadata": {},
   "outputs": [],
   "source": [
    "# number emp, very noisy measure\n",
    "data[\"labor_avg_mod\"] = np.where(\n",
    "    data[\"labor_avg\"].isna(), data[\"labor_avg\"].mean(), data[\"labor_avg\"]\n",
    ")\n",
    "data[\"flag_miss_labor_avg\"] = (data[\"labor_avg\"].isna()).astype(int)"
   ]
  },
  {
   "cell_type": "code",
   "execution_count": 40,
   "id": "4e69d314",
   "metadata": {},
   "outputs": [
    {
     "data": {
      "text/plain": [
       "count    18569.000000\n",
       "mean         0.621691\n",
       "std          1.586800\n",
       "min          0.083333\n",
       "25%          0.097222\n",
       "50%          0.229167\n",
       "75%          0.513889\n",
       "max         42.118057\n",
       "Name: labor_avg, dtype: float64"
      ]
     },
     "execution_count": 40,
     "metadata": {},
     "output_type": "execute_result"
    }
   ],
   "source": [
    "data[\"labor_avg\"].describe()"
   ]
  },
  {
   "cell_type": "code",
   "execution_count": 41,
   "id": "8ad5bc87",
   "metadata": {},
   "outputs": [
    {
     "data": {
      "text/plain": [
       "count    21723.000000\n",
       "mean         0.621691\n",
       "std          1.467084\n",
       "min          0.083333\n",
       "25%          0.125000\n",
       "50%          0.284722\n",
       "75%          0.621691\n",
       "max         42.118057\n",
       "Name: labor_avg_mod, dtype: float64"
      ]
     },
     "execution_count": 41,
     "metadata": {},
     "output_type": "execute_result"
    }
   ],
   "source": [
    "data[\"labor_avg_mod\"].describe()"
   ]
  },
  {
   "cell_type": "code",
   "execution_count": 42,
   "id": "10983b74",
   "metadata": {},
   "outputs": [],
   "source": [
    "data = data.drop([\"labor_avg\"], axis=1)"
   ]
  },
  {
   "cell_type": "code",
   "execution_count": null,
   "id": "e0626813",
   "metadata": {},
   "outputs": [],
   "source": []
  },
  {
   "cell_type": "code",
   "execution_count": 43,
   "id": "2a8e046c",
   "metadata": {},
   "outputs": [],
   "source": [
    "########################################################################\n",
    "# sales\n",
    "########################################################################\n",
    "data[\"sales_mil_log_sq\"] = data[\"sales_mil_log\"] ** 2"
   ]
  },
  {
   "cell_type": "code",
   "execution_count": null,
   "id": "125b953c",
   "metadata": {},
   "outputs": [],
   "source": []
  },
  {
   "cell_type": "code",
   "execution_count": 44,
   "id": "9d52b128",
   "metadata": {},
   "outputs": [
    {
     "name": "stdout",
     "output_type": "stream",
     "text": [
      "                            OLS Regression Results                            \n",
      "==============================================================================\n",
      "Dep. Variable:                default   R-squared:                         nan\n",
      "Model:                            OLS   Adj. R-squared:                    nan\n",
      "Method:                 Least Squares   F-statistic:                       nan\n",
      "Date:                Mon, 06 Mar 2023   Prob (F-statistic):                nan\n",
      "Time:                        16:40:52   Log-Likelihood:                    inf\n",
      "No. Observations:               21723   AIC:                              -inf\n",
      "Df Residuals:                   21720   BIC:                              -inf\n",
      "Df Model:                           2                                         \n",
      "Covariance Type:            nonrobust                                         \n",
      "====================================================================================\n",
      "                       coef    std err          t      P>|t|      [0.025      0.975]\n",
      "------------------------------------------------------------------------------------\n",
      "Intercept                 0          0        nan        nan           0           0\n",
      "sales_mil_log             0          0        nan        nan           0           0\n",
      "sales_mil_log_sq          0          0        nan        nan           0           0\n",
      "==============================================================================\n",
      "Omnibus:                    54074.490   Durbin-Watson:                     nan\n",
      "Prob(Omnibus):                  0.000   Jarque-Bera (JB):             8146.125\n",
      "Skew:                           0.000   Prob(JB):                         0.00\n",
      "Kurtosis:                       0.000   Cond. No.                         45.6\n",
      "==============================================================================\n",
      "\n",
      "Notes:\n",
      "[1] Standard Errors assume that the covariance matrix of the errors is correctly specified.\n",
      "                            OLS Regression Results                            \n",
      "==============================================================================\n",
      "Dep. Variable:                default   R-squared:                         nan\n",
      "Model:                            OLS   Adj. R-squared:                    nan\n",
      "Method:                 Least Squares   F-statistic:                       nan\n",
      "Date:                Mon, 06 Mar 2023   Prob (F-statistic):                nan\n",
      "Time:                        16:40:52   Log-Likelihood:                    inf\n",
      "No. Observations:               21723   AIC:                              -inf\n",
      "Df Residuals:                   21720   BIC:                              -inf\n",
      "Df Model:                           2                                         \n",
      "Covariance Type:            nonrobust                                         \n",
      "====================================================================================\n",
      "                       coef    std err          t      P>|t|      [0.025      0.975]\n",
      "------------------------------------------------------------------------------------\n",
      "Intercept                 0          0        nan        nan           0           0\n",
      "sales_mil_log             0          0        nan        nan           0           0\n",
      "sales_mil_log_sq          0          0        nan        nan           0           0\n",
      "==============================================================================\n",
      "Omnibus:                    54074.490   Durbin-Watson:                     nan\n",
      "Prob(Omnibus):                  0.000   Jarque-Bera (JB):             8146.125\n",
      "Skew:                           0.000   Prob(JB):                         0.00\n",
      "Kurtosis:                       0.000   Cond. No.                         45.6\n",
      "==============================================================================\n",
      "\n",
      "Notes:\n",
      "[1] Standard Errors assume that the covariance matrix of the errors is correctly specified.\n"
     ]
    }
   ],
   "source": [
    "# Linear regressions\n",
    "ols_s = smf.ols(\"default ~ sales_mil_log + sales_mil_log_sq\", data=data).fit()\n",
    "print(ols_s.summary())# Linear regressions\n",
    "ols_s = smf.ols(\"default ~ sales_mil_log + sales_mil_log_sq\", data=data).fit()\n",
    "print(ols_s.summary())"
   ]
  },
  {
   "cell_type": "code",
   "execution_count": 45,
   "id": "c260d59d",
   "metadata": {},
   "outputs": [
    {
     "data": {
      "text/plain": [
       "count    21723.0\n",
       "mean         0.0\n",
       "std          0.0\n",
       "min          0.0\n",
       "25%          0.0\n",
       "50%          0.0\n",
       "75%          0.0\n",
       "max          0.0\n",
       "Name: d1_sales_mil_log, dtype: float64"
      ]
     },
     "execution_count": 45,
     "metadata": {},
     "output_type": "execute_result"
    }
   ],
   "source": [
    "########################################################################\n",
    "# sales change\n",
    "########################################################################\n",
    "# Note: graphs not in book\n",
    "\n",
    "# lowess\n",
    "data[\"d1_sales_mil_log\"].describe()"
   ]
  },
  {
   "cell_type": "code",
   "execution_count": null,
   "id": "469c7937",
   "metadata": {},
   "outputs": [],
   "source": [
    "\n"
   ]
  },
  {
   "cell_type": "code",
   "execution_count": 46,
   "id": "3ec3d9d2",
   "metadata": {},
   "outputs": [],
   "source": [
    "# generate variables ---------------------------------------------------\n",
    "\n",
    "data[\"flag_low_d1_sales_mil_log\"] = np.where(data[\"d1_sales_mil_log\"] < -1.5, 1, 0)\n",
    "data[\"flag_high_d1_sales_mil_log\"] = np.where(data[\"d1_sales_mil_log\"] > 1.5, 1, 0)\n",
    "data[\"d1_sales_mil_log_mod\"] = np.where(\n",
    "    data[\"d1_sales_mil_log\"] < -1.5,\n",
    "    -1.5,\n",
    "    np.where(data[\"d1_sales_mil_log\"] > 1.5, 1.5, data[\"d1_sales_mil_log\"]),\n",
    ")\n",
    "data[\"d1_sales_mil_log_mod_sq\"] = data[\"d1_sales_mil_log_mod\"] ** 2"
   ]
  },
  {
   "cell_type": "code",
   "execution_count": 47,
   "id": "6ce0c3e8",
   "metadata": {},
   "outputs": [],
   "source": [
    "# no more imputation, drop obs if key vars missing\n",
    "data = data.dropna(subset=[\"liq_assets_bs\", \"foreign\", \"ind\"])"
   ]
  },
  {
   "cell_type": "code",
   "execution_count": 48,
   "id": "19ba93ed",
   "metadata": {},
   "outputs": [
    {
     "data": {
      "text/plain": [
       "count    19036.000000\n",
       "mean         8.701828\n",
       "std          6.924531\n",
       "min          0.000000\n",
       "25%          2.000000\n",
       "50%          7.000000\n",
       "75%         15.000000\n",
       "max         34.000000\n",
       "Name: age, dtype: float64"
      ]
     },
     "execution_count": 48,
     "metadata": {},
     "output_type": "execute_result"
    }
   ],
   "source": [
    "# drop missing\n",
    "data = data.dropna(subset=[\"age\", \"foreign\", \"material_exp_pl\", \"m_region_loc\"])\n",
    "data[\"age\"].describe()"
   ]
  },
  {
   "cell_type": "code",
   "execution_count": 49,
   "id": "d5dcee36",
   "metadata": {},
   "outputs": [],
   "source": [
    "# drop unused factor levels\n",
    "for col in data.select_dtypes(include=[\"category\"]).columns:\n",
    "    data[col] = data[col].cat.remove_unused_categories()"
   ]
  },
  {
   "cell_type": "code",
   "execution_count": null,
   "id": "b8879756",
   "metadata": {},
   "outputs": [],
   "source": []
  },
  {
   "cell_type": "code",
   "execution_count": null,
   "id": "0162851f",
   "metadata": {},
   "outputs": [],
   "source": [
    "\n"
   ]
  },
  {
   "cell_type": "code",
   "execution_count": 51,
   "id": "42b01e03",
   "metadata": {},
   "outputs": [],
   "source": [
    "data.to_csv(\"New.data.csv\", index=False)"
   ]
  },
  {
   "cell_type": "code",
   "execution_count": null,
   "id": "a0b26d8c",
   "metadata": {},
   "outputs": [],
   "source": []
  },
  {
   "cell_type": "code",
   "execution_count": null,
   "id": "5b27ab88",
   "metadata": {},
   "outputs": [],
   "source": []
  },
  {
   "cell_type": "code",
   "execution_count": null,
   "id": "1ceb5139",
   "metadata": {},
   "outputs": [],
   "source": []
  }
 ],
 "metadata": {
  "kernelspec": {
   "display_name": "Python 3",
   "language": "python",
   "name": "python3"
  },
  "language_info": {
   "codemirror_mode": {
    "name": "ipython",
    "version": 3
   },
   "file_extension": ".py",
   "mimetype": "text/x-python",
   "name": "python",
   "nbconvert_exporter": "python",
   "pygments_lexer": "ipython3",
   "version": "3.8.8"
  }
 },
 "nbformat": 4,
 "nbformat_minor": 5
}
